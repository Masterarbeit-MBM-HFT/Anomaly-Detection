{
 "cells": [
  {
   "cell_type": "markdown",
   "id": "7a89d68b",
   "metadata": {},
   "source": [
    "# 1. Import Libraries\n",
    "\n",
    "Importing libraries is essential to prepare functions and tools\n",
    "for data manipulation (pandas, numpy), visualization (matplotlib, seaborn),\n",
    "statistical operations (statsmodels, scipy), machine learning (sklearn),\n",
    "and evaluation metrics.\n",
    "\n",
    "Accurate imports ensure reproducibility and usage of appropriate algorithms\n",
    "and tests customized for anomaly detection contexts."
   ]
  },
  {
   "cell_type": "markdown",
   "id": "95effaf5",
   "metadata": {},
   "source": [
    "## 1.1 Common Libraries"
   ]
  },
  {
   "cell_type": "code",
   "execution_count": 3,
   "id": "12e25e4a",
   "metadata": {},
   "outputs": [],
   "source": [
    "import pandas as pd                   # Data manipulation & analysis\n",
    "import numpy as np                    # Numerical computations\n",
    "import os                             # File and operating system utilities\n",
    "import matplotlib.pyplot as plt       # Visualization\n",
    "import seaborn as sns                 # Statistical data visualization\n",
    "import math                           # Built-in mathematical functions"
   ]
  },
  {
   "cell_type": "markdown",
   "id": "f665b5d6",
   "metadata": {},
   "source": [
    "## 1.2 Statistical Methods"
   ]
  },
  {
   "cell_type": "code",
   "execution_count": 8,
   "id": "1ec1220a",
   "metadata": {},
   "outputs": [],
   "source": [
    "from statsmodels.stats.proportion import proportion_confint # Confidence intervals for proportions (e.g., Wilson’s CI)\n",
    "from sklearn.utils.class_weight import compute_class_weight # Handle class imbalance\n",
    "from scipy.stats import zscore                              # Z-score (standard score calculation)\n",
    "from pyod.models.mad import MAD                             # Median Absolute Deviation (robust anomaly detection)"
   ]
  },
  {
   "cell_type": "markdown",
   "id": "2417f8c2",
   "metadata": {},
   "source": [
    "## 1.3 Data Splitting"
   ]
  },
  {
   "cell_type": "code",
   "execution_count": 9,
   "id": "85eddaf9",
   "metadata": {},
   "outputs": [],
   "source": [
    "from sklearn.model_selection import train_test_split # Split data into training and testing sets"
   ]
  },
  {
   "cell_type": "markdown",
   "id": "10b93697",
   "metadata": {},
   "source": [
    "## 1.4 Preprocessing"
   ]
  },
  {
   "cell_type": "code",
   "execution_count": 10,
   "id": "f3fb2a5b",
   "metadata": {},
   "outputs": [],
   "source": [
    "from sklearn.preprocessing import StandardScaler              # Feature scaling\n",
    "from sklearn.preprocessing import OneHotEncoder               # Categorical encoding\n",
    "from sklearn.compose import ColumnTransformer                 # Apply transformations to columns\n",
    "from sklearn.pipeline import Pipeline                         # Create preprocessing + modeling pipelines\n",
    "from sklearn.impute import SimpleImputer                      # Handle missing data\n",
    "from sklearn.preprocessing import label_binarize              # Convert labels into binary indicators"
   ]
  },
  {
   "cell_type": "markdown",
   "id": "28d995f8",
   "metadata": {},
   "source": [
    "## 1.5 Models"
   ]
  },
  {
   "cell_type": "code",
   "execution_count": 11,
   "id": "8ce6ff15",
   "metadata": {},
   "outputs": [],
   "source": [
    "from sklearn.linear_model import LogisticRegression           # Supervised learning: Logistic Regression Classifier\n",
    "from sklearn.ensemble import RandomForestClassifier           # Supervised learning: Random Forest Classifier"
   ]
  },
  {
   "cell_type": "markdown",
   "id": "71575481",
   "metadata": {},
   "source": [
    "## 1.6 Evaluation Metrics"
   ]
  },
  {
   "cell_type": "code",
   "execution_count": 12,
   "id": "94aaac69",
   "metadata": {},
   "outputs": [],
   "source": [
    "from sklearn.metrics import classification_report             # Detailed classification metrics\n",
    "from sklearn.metrics import roc_auc_score                     # Area Under ROC curve\n",
    "from sklearn.metrics import confusion_matrix                  # Compute confusion matrix\n",
    "from sklearn.metrics import balanced_accuracy_score           # Balanced accuracy (for imbalanced data)\n",
    "from sklearn.metrics import precision_score                   # Precision\n",
    "from sklearn.metrics import average_precision_score           # Average precision (useful for PR curve)\n",
    "from sklearn.metrics import recall_score                      # Recall\n",
    "from sklearn.metrics import f1_score                          # F1-score"
   ]
  },
  {
   "cell_type": "markdown",
   "id": "771a47b9",
   "metadata": {},
   "source": [
    "# 2. Data Loading\n",
    "\n",
    "Load the data into memory and parse dates.\n",
    "\n",
    "Correct loading is foundational as downstream steps rely on proper data types and formats,\n",
    "especially dates which can be used for temporal anomaly trend analysis.\n",
    "\n",
    "Column structure inspection helps confirm dataset consistency against expectations."
   ]
  },
  {
   "cell_type": "code",
   "execution_count": 14,
   "id": "63648256",
   "metadata": {},
   "outputs": [
    {
     "name": "stdout",
     "output_type": "stream",
     "text": [
      "Index(['layer_name', 'ctt_cms_contract_number', 'ctt_vin',\n",
      "       'ctt_asset_type_segment', 'entity_name', 'reporting_date',\n",
      "       'anomaly_description', 'anomaly_flag'],\n",
      "      dtype='object')\n"
     ]
    }
   ],
   "source": [
    "path = \"./data/warnings_vin_sample.csv\"\n",
    "df = pd.read_csv(path, sep=\";\")\n",
    "df[\"reporting_date\"] = pd.to_datetime(df[\"reporting_date\"], errors=\"coerce\")\n",
    "print(df.columns)"
   ]
  },
  {
   "cell_type": "markdown",
   "id": "14436957",
   "metadata": {},
   "source": [
    "# 3. Sanity Checks\n",
    "\n",
    "Sanity checks validate dataset integrity before modeling.\n",
    "\n",
    "- Shape and info ensure dataset loaded fully and data types are appropriate.\n",
    "- Summary statistics give insight into distributions, ranges, and missing data patterns.\n",
    "- Identification of constant columns prevents redundant features causing noise.\n",
    "- Splitting categorical and numeric helps in later tailored preprocessing.\n",
    "- High-cardinality features indicate need for special encoding (frequency or target encoding).\n",
    "- Duplicate row check guards against data leakage or bias.\n",
    "- Target distribution review ensures meaningful class representation for supervised learning.\n",
    "- Sanity checks for specific columns like VIN confirm domain-specific expectations."
   ]
  },
  {
   "cell_type": "markdown",
   "id": "2fb6f54a",
   "metadata": {},
   "source": [
    "## 3.1 Basic shape and info"
   ]
  },
  {
   "cell_type": "code",
   "execution_count": 15,
   "id": "f241c904",
   "metadata": {},
   "outputs": [
    {
     "name": "stdout",
     "output_type": "stream",
     "text": [
      "Shape: (5055, 8)\n",
      "\n",
      "Info:\n",
      "<class 'pandas.core.frame.DataFrame'>\n",
      "RangeIndex: 5055 entries, 0 to 5054\n",
      "Data columns (total 8 columns):\n",
      " #   Column                   Non-Null Count  Dtype         \n",
      "---  ------                   --------------  -----         \n",
      " 0   layer_name               5055 non-null   object        \n",
      " 1   ctt_cms_contract_number  5055 non-null   object        \n",
      " 2   ctt_vin                  3929 non-null   object        \n",
      " 3   ctt_asset_type_segment   5055 non-null   object        \n",
      " 4   entity_name              5055 non-null   object        \n",
      " 5   reporting_date           5055 non-null   datetime64[ns]\n",
      " 6   anomaly_description      5055 non-null   object        \n",
      " 7   anomaly_flag             5055 non-null   int64         \n",
      "dtypes: datetime64[ns](1), int64(1), object(6)\n",
      "memory usage: 316.1+ KB\n",
      "None\n"
     ]
    }
   ],
   "source": [
    "print(\"Shape:\", df.shape)\n",
    "print(\"\\nInfo:\")\n",
    "print(df.info())"
   ]
  },
  {
   "cell_type": "markdown",
   "id": "dd119658",
   "metadata": {},
   "source": [
    "## 3.2 Summary Statistics\n",
    "\n",
    "5-Number Statistics: \n",
    "One of the quickest methods for getting a feel for new data is the 5-number summary. It prints out 5 metrics about a distribution - the minimum, 25th percentile, median, 75th percentile, and the maximum along with mean and standard deviation. By looking at the 5-number summary and the difference between the mean and the minimum/maximum values, you can get a rough idea of whether outliers are present in the distribution.\n"
   ]
  },
  {
   "cell_type": "code",
   "execution_count": 16,
   "id": "92c0274e",
   "metadata": {},
   "outputs": [
    {
     "data": {
      "text/plain": [
       "count    5055.000000\n",
       "mean        0.006726\n",
       "std         0.081744\n",
       "min         0.000000\n",
       "25%         0.000000\n",
       "50%         0.000000\n",
       "75%         0.000000\n",
       "max         1.000000\n",
       "Name: anomaly_flag, dtype: float64"
      ]
     },
     "execution_count": 16,
     "metadata": {},
     "output_type": "execute_result"
    }
   ],
   "source": [
    "df[\"anomaly_flag\"].describe()"
   ]
  },
  {
   "cell_type": "markdown",
   "id": "240d7322",
   "metadata": {},
   "source": [
    "## 3.3 Numeric and categorical split\n",
    "\n",
    "* Checking high-cardinality categoricals\n",
    "    * Categorical features are variables that can take on one of several set values (categories).\n",
    "    * When the number of unique categories in such a feature is very large, it is called high cardinality.\n",
    "\n",
    "* Why is checking high-cardinality categoricals important?\n",
    "    * High-cardinality categorical features can cause problems in machine learning, such as:\n",
    "        * Explosion in the number of features after encoding (e.g., one-hot encoding).\n",
    "        * Increased storage and computation requirements.\n",
    "        * Risk of model overfitting due to noise from many sparse categories.\n",
    "        * Difficulty in encoding, as simple methods may not handle so many categories well.\n",
    "    * Models may struggle because many categories may appear in either train or test sets but not both, causing inconsistencies."
   ]
  },
  {
   "cell_type": "code",
   "execution_count": 17,
   "id": "66987ba4",
   "metadata": {},
   "outputs": [
    {
     "name": "stdout",
     "output_type": "stream",
     "text": [
      "\n",
      "High-cardinality categoricals: ['ctt_cms_contract_number', 'ctt_vin', 'reporting_date']\n"
     ]
    }
   ],
   "source": [
    "num_cols = df.select_dtypes(include=[\"number\"]).columns.tolist()\n",
    "cat_cols = [c for c in df.columns if c not in num_cols]\n",
    "\n",
    "### High-cardinality categoricals\n",
    "high_card = [c for c in cat_cols if df[c].nunique() > 100]\n",
    "print(\"\\nHigh-cardinality categoricals:\", high_card)"
   ]
  },
  {
   "cell_type": "markdown",
   "id": "34ea26ad",
   "metadata": {},
   "source": [
    "## 3.4 Feature info summary"
   ]
  },
  {
   "cell_type": "code",
   "execution_count": 18,
   "id": "027b8888",
   "metadata": {},
   "outputs": [
    {
     "name": "stdout",
     "output_type": "stream",
     "text": [
      "\n",
      "Feature Information:\n",
      "                                  dtype  n_missing  % missing  n_unique\n",
      "layer_name                       object          0       0.00         2\n",
      "ctt_cms_contract_number          object          0       0.00      4680\n",
      "ctt_vin                          object       1126      22.27      3563\n",
      "ctt_asset_type_segment           object          0       0.00         5\n",
      "entity_name                      object          0       0.00         1\n",
      "reporting_date           datetime64[ns]          0       0.00       136\n",
      "anomaly_description              object          0       0.00         2\n",
      "anomaly_flag                      int64          0       0.00         2\n"
     ]
    }
   ],
   "source": [
    "feature_info = pd.DataFrame({\n",
    "    \"dtype\": df.dtypes,\n",
    "    \"n_missing\": df.isna().sum(),\n",
    "    \"% missing\": (df.isna().sum() / len(df) * 100).round(2),\n",
    "    \"n_unique\": df.nunique(),\n",
    "})\n",
    "print(\"\\nFeature Information:\")\n",
    "print(feature_info)"
   ]
  },
  {
   "cell_type": "markdown",
   "id": "14d8c002",
   "metadata": {},
   "source": [
    "## 3.5 Duplicates at dataset level"
   ]
  },
  {
   "cell_type": "code",
   "execution_count": 19,
   "id": "368d99ce",
   "metadata": {},
   "outputs": [
    {
     "name": "stdout",
     "output_type": "stream",
     "text": [
      "\n",
      "Number of duplicate rows: 59\n"
     ]
    }
   ],
   "source": [
    "n_dupes = df.duplicated().sum()\n",
    "print(f\"\\nNumber of duplicate rows: {n_dupes}\")"
   ]
  },
  {
   "cell_type": "markdown",
   "id": "0ae70a24",
   "metadata": {},
   "source": [
    "## 3.6 Target distribution (detailed anomaly_description)"
   ]
  },
  {
   "cell_type": "code",
   "execution_count": 20,
   "id": "746120e8",
   "metadata": {},
   "outputs": [
    {
     "name": "stdout",
     "output_type": "stream",
     "text": [
      "\n",
      "Anomaly description distribution:\n",
      "0. No anomaly detected for VIN: 5021\n",
      "1. Warning Prio 2/No matches found within the Mapis table lookup for the VIN: 34\n"
     ]
    }
   ],
   "source": [
    "print(\"\\nAnomaly description distribution:\")\n",
    "for i, (k, v) in enumerate(df[\"anomaly_description\"].value_counts().items()):\n",
    "    print(f\"{i}. {k}: {v}\")"
   ]
  },
  {
   "cell_type": "markdown",
   "id": "64a0f4fa",
   "metadata": {},
   "source": [
    "## 3.7 VIN sanity check"
   ]
  },
  {
   "cell_type": "code",
   "execution_count": 21,
   "id": "55ebeef8",
   "metadata": {},
   "outputs": [
    {
     "name": "stdout",
     "output_type": "stream",
     "text": [
      "\n",
      "Records with missing VIN but 'No anomaly detected': 1126\n"
     ]
    }
   ],
   "source": [
    "df_vin_contradict = df[\n",
    "    df[\"ctt_vin\"].isna() & \n",
    "    (df[\"anomaly_description\"].str.contains(\"No anomaly detected\", na=False))\n",
    "]\n",
    "print(f\"\\nRecords with missing VIN but 'No anomaly detected': {len(df_vin_contradict)}\")"
   ]
  },
  {
   "cell_type": "markdown",
   "id": "d76a0c53",
   "metadata": {},
   "source": [
    "## 3.8 Data Visualizations"
   ]
  },
  {
   "cell_type": "markdown",
   "id": "aa13f516",
   "metadata": {},
   "source": [
    "### 3.8.1 Histograms for Outlier detection\n",
    "\n",
    "* A histogram can be a compelling visual for finding outliers.\n",
    "* They can become apparent when an appropriate number of bins is chosen for the histogram.\n",
    "* Recall that the square root of the number of observations can be used as a rule of thumb for setting the number of bins. But we can ignore this as this is a binary classification detection problem.\n",
    "* Usually, the bins with the lowest heights will contain outliers."
   ]
  },
  {
   "cell_type": "code",
   "execution_count": 22,
   "id": "b508589c",
   "metadata": {},
   "outputs": [],
   "source": [
    "binary_flag = df[\"anomaly_flag\"]"
   ]
  },
  {
   "cell_type": "code",
   "execution_count": 40,
   "id": "57d7d05d",
   "metadata": {},
   "outputs": [
    {
     "data": {
      "image/png": "[encoded data removed]",
      "text/plain": [
       "<Figure size 600x400 with 1 Axes>"
      ]
     },
     "metadata": {},
     "output_type": "display_data"
    }
   ],
   "source": [
    "#### Bar chart showing anomaly_flag balance\n",
    "plt.figure(figsize=(6, 4))\n",
    "sns.countplot(x='anomaly_flag', data=df)\n",
    "plt.title('Anomaly Flag Class Distribution')\n",
    "plt.xlabel('Anomaly Flag')\n",
    "plt.ylabel('Count')\n",
    "plt.show()"
   ]
  },
  {
   "cell_type": "markdown",
   "id": "e1037ec2",
   "metadata": {},
   "source": [
    "# 4. Class Distribution Analysis\n",
    "\n",
    "Analysis of class balance is critical in anomaly detection characterized by rare positive samples.\n",
    "\n",
    "- Class imbalance affects model training and evaluation.\n",
    "- Prevalence and confidence intervals are statistical measures helping assess data sufficiency and reliability.\n",
    "- Wilson's method for confidence intervals is robust for binomial proportions often used for anomaly labels.\n",
    "- Standard error quantifies uncertainty aiding considered thresholding and risk assessment."
   ]
  },
  {
   "cell_type": "markdown",
   "id": "dfcf185a",
   "metadata": {},
   "source": [
    "## 4.1 Class imbalance"
   ]
  },
  {
   "cell_type": "code",
   "execution_count": 35,
   "id": "98bd67f0",
   "metadata": {},
   "outputs": [
    {
     "name": "stdout",
     "output_type": "stream",
     "text": [
      "Majority class (0): 5021\n",
      "Minority class (1): 34\n",
      "Class imbalance present? -> True\n"
     ]
    }
   ],
   "source": [
    "class_counts = df[\"anomaly_flag\"].value_counts()\n",
    "n0, n1 = class_counts[0], class_counts[1]\n",
    "\n",
    "print(\"Majority class (0):\", n0)\n",
    "print(\"Minority class (1):\", n1)\n",
    "print(\"Class imbalance present? ->\", n0 != n1)"
   ]
  },
  {
   "cell_type": "markdown",
   "id": "358b09e5",
   "metadata": {},
   "source": [
    "## 4.2 Class Imbalance Ratio (CIR)"
   ]
  },
  {
   "cell_type": "code",
   "execution_count": 36,
   "id": "0e18d05a",
   "metadata": {},
   "outputs": [
    {
     "name": "stdout",
     "output_type": "stream",
     "text": [
      "Class imbalance ratio: 147.68:1\n"
     ]
    }
   ],
   "source": [
    "target = \"anomaly_flag\"\n",
    "n0, n1 = df[target].value_counts().values\n",
    "cir = max(n0, n1) / min(n0, n1)\n",
    "print(f\"Class imbalance ratio: {cir:.2f}:1\")"
   ]
  },
  {
   "cell_type": "markdown",
   "id": "a57af0d7",
   "metadata": {},
   "source": [
    "## 4.3 Prevalence"
   ]
  },
  {
   "cell_type": "code",
   "execution_count": 37,
   "id": "766799bd",
   "metadata": {},
   "outputs": [
    {
     "name": "stdout",
     "output_type": "stream",
     "text": [
      "Prevalence of anomalies: 0.00673 (0.673%)\n"
     ]
    }
   ],
   "source": [
    "n_total = len(df)\n",
    "n_pos = n1\n",
    "prevalence = n_pos / n_total\n",
    "print(f\"Prevalence of anomalies: {prevalence:.5f} ({100*prevalence:.3f}%)\")"
   ]
  },
  {
   "cell_type": "markdown",
   "id": "739c5074",
   "metadata": {},
   "source": [
    "## 4.4 Wilsons 95% CI"
   ]
  },
  {
   "cell_type": "code",
   "execution_count": 38,
   "id": "dfcf3c71",
   "metadata": {},
   "outputs": [
    {
     "name": "stdout",
     "output_type": "stream",
     "text": [
      "Wilson 95% CI for prevalence: [0.00482, 0.00938]\n"
     ]
    }
   ],
   "source": [
    "ci_low, ci_high = proportion_confint(count=n_pos, nobs=n_total, method=\"wilson\")\n",
    "print(f\"Wilson 95% CI for prevalence: [{ci_low:.5f}, {ci_high:.5f}]\")"
   ]
  },
  {
   "cell_type": "markdown",
   "id": "31be0179",
   "metadata": {},
   "source": [
    "## 4.5 Standard Error"
   ]
  },
  {
   "cell_type": "code",
   "execution_count": 39,
   "id": "0b13b4d7",
   "metadata": {},
   "outputs": [
    {
     "name": "stdout",
     "output_type": "stream",
     "text": [
      "Standard Error of prevalence: 0.001150\n"
     ]
    }
   ],
   "source": [
    "SE = (prevalence * (1 - prevalence) / n_total) ** 0.5\n",
    "print(f\"Standard Error of prevalence: {SE:.6f}\")"
   ]
  },
  {
   "cell_type": "markdown",
   "id": "ddf67a95",
   "metadata": {},
   "source": [
    "# 5. Data Sufficiency\n",
    "\n",
    "Calculate sample size and required positive/negative cases to achieve a margin of error at specified confidence levels.\n",
    "\n",
    "Ensures dataset size and class proportions provide statistically significant model training\n",
    "and avoid misleading results from insufficient data."
   ]
  },
  {
   "cell_type": "code",
   "execution_count": 41,
   "id": "41bac74e",
   "metadata": {},
   "outputs": [],
   "source": [
    "def required_n_for_proportion(m=0.05, confidence=0.95, p=None):\n",
    "    from scipy.stats import norm\n",
    "    z = norm.ppf(1 - (1 - confidence) / 2)\n",
    "    \n",
    "    # Worst-case prevalence if not provided\n",
    "    if p is None:\n",
    "        p = 0.5\n",
    "    \n",
    "    n_needed = math.ceil((z**2) * p * (1 - p) / (m**2))\n",
    "    return n_needed"
   ]
  },
  {
   "cell_type": "code",
   "execution_count": 42,
   "id": "37d11e51",
   "metadata": {},
   "outputs": [
    {
     "name": "stdout",
     "output_type": "stream",
     "text": [
      "Required total sample size: 385\n",
      "Given prevalence=0.00673:\n",
      "Required positives: 3\n",
      "Required negatives: 382\n"
     ]
    }
   ],
   "source": [
    "## Apply to your dataset\n",
    "## 95% CI, ±5% margin of error\n",
    "n_needed = required_n_for_proportion(m=0.05, confidence=0.95)\n",
    "\n",
    "## Expected prevalence from data\n",
    "p_hat = df[\"anomaly_flag\"].mean()\n",
    "\n",
    "## Adjusted required positives (if prevalence is low)\n",
    "n_pos_needed = math.ceil(n_needed * p_hat)\n",
    "n_neg_needed = n_needed - n_pos_needed\n",
    "\n",
    "print(f\"Required total sample size: {n_needed}\")\n",
    "print(f\"Given prevalence={p_hat:.5f}:\")\n",
    "print(f\"Required positives: {n_pos_needed}\")\n",
    "print(f\"Required negatives: {n_neg_needed}\")"
   ]
  },
  {
   "cell_type": "markdown",
   "id": "366c5f4d",
   "metadata": {},
   "source": [
    "# 6. Feature Selection\n",
    "\n",
    "Select relevant features while preventing data leakage and redundancy.\n",
    "\n",
    "- Drop constant, leakage-prone columns (e.g. anomaly_description heavily correlated with label).\n",
    "- Preserve domain-important identifiers (ctt_vin, ctt_cms_contract_number).\n",
    "- Remove highly correlated numeric features to reduce multicollinearity.\n",
    "- This process improves model generalization and interpretability."
   ]
  },
  {
   "cell_type": "markdown",
   "id": "ac9c5213",
   "metadata": {},
   "source": [
    "## 6.1 Correlation with target (numeric only)"
   ]
  },
  {
   "cell_type": "code",
   "execution_count": 43,
   "id": "1cb5744d",
   "metadata": {},
   "outputs": [
    {
     "name": "stdout",
     "output_type": "stream",
     "text": [
      "Correlation with target:\n",
      " anomaly_flag    1.0\n",
      "Name: anomaly_flag, dtype: float64\n"
     ]
    }
   ],
   "source": [
    "cor_target = df.corr(numeric_only=True)[\"anomaly_flag\"].abs().sort_values(ascending=False)\n",
    "print(\"Correlation with target:\\n\", cor_target)"
   ]
  },
  {
   "cell_type": "markdown",
   "id": "e7717c14",
   "metadata": {},
   "source": [
    "## 6.2 Candidate columns to drop"
   ]
  },
  {
   "cell_type": "code",
   "execution_count": 44,
   "id": "333dc318",
   "metadata": {},
   "outputs": [
    {
     "name": "stdout",
     "output_type": "stream",
     "text": [
      "Columns to drop based on logic: ['entity_name', 'anomaly_description']\n"
     ]
    }
   ],
   "source": [
    "### Identify columns to drop based on criteria\n",
    "drop_cols = []\n",
    "\n",
    "cols = df.columns\n",
    "\n",
    "### Drop columns with single unique value (constant)\n",
    "for col in cols:\n",
    "    if df[col].nunique() == 1:\n",
    "        drop_cols.append(col)\n",
    "\n",
    "### Drop columns likely causing data leakage or not useful\n",
    "leakage_candidates = ['anomaly_description']  # Text describing target, high leakage risk\n",
    "drop_cols += [col for col in leakage_candidates if col in cols]\n",
    "\n",
    "### Final drop columns ensuring to keep important ID columns\n",
    "ids_to_keep = ['ctt_cms_contract_number', 'ctt_vin']\n",
    "drop_cols = [col for col in drop_cols if col not in ids_to_keep]\n",
    "\n",
    "print(f\"Columns to drop based on logic: {drop_cols}\")"
   ]
  },
  {
   "cell_type": "markdown",
   "id": "2e71a438",
   "metadata": {},
   "source": [
    "## 6.3 Remove identified columns"
   ]
  },
  {
   "cell_type": "code",
   "execution_count": 45,
   "id": "d062ba68",
   "metadata": {},
   "outputs": [
    {
     "name": "stdout",
     "output_type": "stream",
     "text": [
      "Index(['layer_name', 'ctt_cms_contract_number', 'ctt_vin',\n",
      "       'ctt_asset_type_segment', 'reporting_date', 'anomaly_flag'],\n",
      "      dtype='object')\n"
     ]
    }
   ],
   "source": [
    "df_model = df.drop(columns=list(drop_cols))\n",
    "print(df_model.columns)"
   ]
  },
  {
   "cell_type": "markdown",
   "id": "bd78973b",
   "metadata": {},
   "source": [
    "## 6.4 Remove highly correlated numeric features (multicollinearity check)"
   ]
  },
  {
   "cell_type": "code",
   "execution_count": 46,
   "id": "b0f0ab96",
   "metadata": {},
   "outputs": [
    {
     "name": "stdout",
     "output_type": "stream",
     "text": [
      "Highly correlated numeric features (r > 0.95) to drop: []\n"
     ]
    }
   ],
   "source": [
    "### Create correlation matrix for features only (exclude target)\n",
    "### Select only numeric columns for correlation matrix\n",
    "numeric_feats = df_model.select_dtypes(include=[np.number]).columns.tolist()\n",
    "\n",
    "### Exclude target column if present\n",
    "if \"anomaly_flag\" in numeric_feats:\n",
    "    numeric_feats.remove(\"anomaly_flag\")\n",
    "\n",
    "### Now compute correlation matrix only on numeric features\n",
    "corr_matrix = df_model[numeric_feats].corr().abs()\n",
    "\n",
    "### Upper triangle mask to avoid duplicated pairs and diagonal\n",
    "upper = corr_matrix.where(np.triu(np.ones(corr_matrix.shape), k=1).astype(bool))\n",
    "\n",
    "### Identify highly correlated columns\n",
    "high_corr = [col for col in upper.columns if any(upper[col] > 0.95)]\n",
    "print(\"Highly correlated numeric features (r > 0.95) to drop:\", high_corr)"
   ]
  },
  {
   "cell_type": "markdown",
   "id": "ffd563c9",
   "metadata": {},
   "source": [
    "## 6.5 Final"
   ]
  },
  {
   "cell_type": "code",
   "execution_count": 47,
   "id": "836756e1",
   "metadata": {},
   "outputs": [
    {
     "name": "stdout",
     "output_type": "stream",
     "text": [
      "\n",
      "Final modeling DataFrame shape: (5055, 6)\n"
     ]
    }
   ],
   "source": [
    "df_model = df_model.drop(columns=high_corr)\n",
    "print(\"\\nFinal modeling DataFrame shape:\", df_model.shape)"
   ]
  },
  {
   "cell_type": "markdown",
   "id": "fb24d010",
   "metadata": {},
   "source": [
    "# 7. Train-test Split\n",
    "\n",
    "Create training and testing subsets sustaining class balance (stratification).\n",
    "\n",
    "This step mimics real-world data division, allowing model validation on unseen data,\n",
    "particularly preserving rare anomaly instances proportionally in both subsets."
   ]
  },
  {
   "cell_type": "markdown",
   "id": "70616e21",
   "metadata": {},
   "source": [
    "## 7.1 Check balance in y"
   ]
  },
  {
   "cell_type": "code",
   "execution_count": 48,
   "id": "92faee52",
   "metadata": {},
   "outputs": [
    {
     "name": "stdout",
     "output_type": "stream",
     "text": [
      "Proportion of anomalies: 0.006726013847675569\n"
     ]
    }
   ],
   "source": [
    "X = df_model.drop(columns=[\"anomaly_flag\"]) # Keep as DataFrame\n",
    "y = df_model[\"anomaly_flag\"] # Keep as series\n",
    "print(\"Proportion of anomalies:\", y.mean())"
   ]
  },
  {
   "cell_type": "markdown",
   "id": "e3ee335e",
   "metadata": {},
   "source": [
    "## 7.2 Data splitting"
   ]
  },
  {
   "cell_type": "code",
   "execution_count": 49,
   "id": "b57ed99f",
   "metadata": {},
   "outputs": [
    {
     "name": "stdout",
     "output_type": "stream",
     "text": [
      "Train class distribution: {np.int64(0): np.int64(4017), np.int64(1): np.int64(27)}\n",
      "Test class distribution: {np.int64(0): np.int64(1004), np.int64(1): np.int64(7)}\n",
      "Train set size: (4044, 5)\n",
      "Test set size: (1011, 5)\n",
      "Anomalies in train: 27\n",
      "Anomalies in test: 7\n"
     ]
    }
   ],
   "source": [
    "X_train, X_test, y_train, y_test = train_test_split(X, y, test_size=0.2, stratify=y, random_state=42)\n",
    "print(\"Train class distribution:\", dict(zip(*np.unique(y_train, return_counts=True))))\n",
    "print(\"Test class distribution:\", dict(zip(*np.unique(y_test, return_counts=True))))\n",
    "\n",
    "print(\"Train set size:\", X_train.shape)\n",
    "print(\"Test set size:\", X_test.shape)\n",
    "print(\"Anomalies in train:\", y_train.sum())\n",
    "print(\"Anomalies in test:\", y_test.sum())"
   ]
  },
  {
   "cell_type": "markdown",
   "id": "bab1af89",
   "metadata": {},
   "source": [
    "### Data Viz"
   ]
  },
  {
   "cell_type": "code",
   "execution_count": 50,
   "id": "a571f6a3",
   "metadata": {},
   "outputs": [
    {
     "data": {
      "image/png": "[encoded data removed]",
      "text/plain": [
       "<Figure size 1000x400 with 2 Axes>"
      ]
     },
     "metadata": {},
     "output_type": "display_data"
    }
   ],
   "source": [
    "# Class distribution in train and test sets side by side\n",
    "plt.figure(figsize=(10, 4))\n",
    "plt.subplot(1, 2, 1)\n",
    "sns.countplot(x=y_train)\n",
    "plt.title('Train Set Class Distribution')\n",
    "plt.subplot(1, 2, 2)\n",
    "sns.countplot(x=y_test)\n",
    "plt.title('Test Set Class Distribution')\n",
    "plt.show()\n"
   ]
  },
  {
   "cell_type": "markdown",
   "id": "3110a60e",
   "metadata": {},
   "source": [
    "# 8. Preprocessing\n",
    "\n",
    "Prepare data pipelines for numeric/categorical features:\n",
    "\n",
    "- Numeric features imputed (median) and scaled (StandardScaler) for uniformity improving model convergence.\n",
    "- Categorical features imputed (mode) and one-hot encoded for algorithm compatibility without numerical assumptions.\n",
    "- Combined preprocessing via ColumnTransformer ensures structured handling within sklearn pipeline."
   ]
  },
  {
   "cell_type": "code",
   "execution_count": 47,
   "id": "c8e889ec",
   "metadata": {},
   "outputs": [
    {
     "name": "stdout",
     "output_type": "stream",
     "text": [
      "Numeric columns: []\n",
      "Categorical columns: ['layer_name', 'ctt_cms_contract_number', 'ctt_vin', 'ctt_asset_type_segment']\n"
     ]
    }
   ],
   "source": [
    "## Identify column types\n",
    "numeric_features = X_train.select_dtypes(include=[\"int64\", \"float64\", \"number\"]).columns\n",
    "categorical_features = X_train.select_dtypes(include=[\"object\", \"category\"]).columns\n",
    "\n",
    "print(\"Numeric columns:\", list(numeric_features))\n",
    "print(\"Categorical columns:\", list(categorical_features))"
   ]
  },
  {
   "cell_type": "code",
   "execution_count": 48,
   "id": "7a10c853",
   "metadata": {},
   "outputs": [],
   "source": [
    "numeric_transformer = Pipeline([\n",
    "    (\"imputer\", SimpleImputer(strategy=\"median\")),\n",
    "    (\"scaler\", StandardScaler())\n",
    "])\n",
    "\n",
    "categorical_transformer = Pipeline([\n",
    "    (\"imputer\", SimpleImputer(strategy=\"most_frequent\")),\n",
    "    (\"onehot\", OneHotEncoder(handle_unknown=\"ignore\"))  # keep sparse default\n",
    "])"
   ]
  },
  {
   "cell_type": "code",
   "execution_count": 49,
   "id": "93c2c2b8",
   "metadata": {},
   "outputs": [],
   "source": [
    "## Combine preprocessing\n",
    "preprocessor = ColumnTransformer(\n",
    "    transformers=[\n",
    "        (\"num\", numeric_transformer, numeric_features),\n",
    "        (\"cat\", categorical_transformer, categorical_features),\n",
    "    ]\n",
    ")"
   ]
  },
  {
   "cell_type": "markdown",
   "id": "2fb04ba6",
   "metadata": {},
   "source": [
    "# 9. Machine Learning Models\n",
    "\n",
    "Train classifiers Logistic Regression and Random Forest:\n",
    "\n",
    "- Logistic regression is robust, interpretable linear model suitable for classification.\n",
    "- Random forest captures nonlinear feature interactions and generally achieves higher accuracy.\n",
    "- Class imbalance addressed by class_weight='balanced' option, recalibrating model to minority anomaly instances.\n",
    "- Train/test score printing assists performance inspection and potential overfitting detection."
   ]
  },
  {
   "cell_type": "markdown",
   "id": "555ab11a",
   "metadata": {},
   "source": [
    "## 9.1 Logistic Regression"
   ]
  },
  {
   "cell_type": "code",
   "execution_count": 57,
   "id": "15fb9cf8",
   "metadata": {},
   "outputs": [
    {
     "name": "stdout",
     "output_type": "stream",
     "text": [
      "Train accuracy: 0.9933234421364985\n",
      "Test accuracy: 0.9930761622156281\n"
     ]
    }
   ],
   "source": [
    "log_reg = Pipeline([\n",
    "    (\"preprocessor\", preprocessor),\n",
    "    (\"clf\", LogisticRegression(max_iter=2000, solver=\"lbfgs\"))\n",
    "])\n",
    "\n",
    "log_reg.fit(X_train, y_train)\n",
    "\n",
    "print(\"Train accuracy:\", log_reg.score(X_train, y_train))\n",
    "print(\"Test accuracy:\", log_reg.score(X_test, y_test))\n"
   ]
  },
  {
   "cell_type": "code",
   "execution_count": 58,
   "id": "5fbb5a77",
   "metadata": {},
   "outputs": [
    {
     "name": "stdout",
     "output_type": "stream",
     "text": [
      "Train accuracy: 0.9967853610286844\n",
      "Test accuracy: 0.9910979228486647\n"
     ]
    }
   ],
   "source": [
    "### Addressing Class Imbalance\n",
    "log_reg_2 = Pipeline([\n",
    "    (\"preprocessor\", preprocessor),\n",
    "    (\"clf\", LogisticRegression(max_iter=2000, solver=\"lbfgs\", class_weight=\"balanced\"))\n",
    "]).fit(X_train, y_train)\n",
    "\n",
    "log_reg_2.fit(X_train, y_train)\n",
    "\n",
    "print(\"Train accuracy:\", log_reg_2.score(X_train, y_train))\n",
    "print(\"Test accuracy:\", log_reg_2.score(X_test, y_test))"
   ]
  },
  {
   "cell_type": "markdown",
   "id": "1c07f098",
   "metadata": {},
   "source": [
    "## 9.2 Random Forest"
   ]
  },
  {
   "cell_type": "code",
   "execution_count": 59,
   "id": "a8e355f1",
   "metadata": {},
   "outputs": [
    {
     "name": "stdout",
     "output_type": "stream",
     "text": [
      "Train accuracy: 0.9980217606330366\n",
      "Test accuracy: 0.9910979228486647\n"
     ]
    }
   ],
   "source": [
    "rf = Pipeline([\n",
    "    (\"preprocessor\", preprocessor),\n",
    "    (\"clf\", RandomForestClassifier(n_estimators=200, random_state=42))\n",
    "])\n",
    "\n",
    "rf.fit(X_train, y_train)\n",
    "\n",
    "print(\"Train accuracy:\", rf.score(X_train, y_train))\n",
    "print(\"Test accuracy:\", rf.score(X_test, y_test))"
   ]
  },
  {
   "cell_type": "code",
   "execution_count": 60,
   "id": "47931bdb",
   "metadata": {},
   "outputs": [
    {
     "name": "stdout",
     "output_type": "stream",
     "text": [
      "Train accuracy: 0.9967853610286844\n",
      "Test accuracy: 0.9910979228486647\n"
     ]
    }
   ],
   "source": [
    "### Addressing Class Imbalance\n",
    "rf_2 = Pipeline([\n",
    "    (\"preprocessor\", preprocessor),\n",
    "    (\"clf\", RandomForestClassifier(n_estimators=300, random_state=42, class_weight=\"balanced\"))\n",
    "]).fit(X_train, y_train)\n",
    "\n",
    "rf_2.fit(X_train, y_train)\n",
    "\n",
    "print(\"Train accuracy:\", rf_2.score(X_train, y_train))\n",
    "print(\"Test accuracy:\", rf_2.score(X_test, y_test))"
   ]
  },
  {
   "cell_type": "markdown",
   "id": "8ab59761",
   "metadata": {},
   "source": [
    "# 10. Model Comparison\n",
    "\n",
    "Evaluate models with multiple metrics:\n",
    "\n",
    "- ROC AUC quantifies model discrimination capability.\n",
    "- Precision, recall, F1 reflect correctness and completeness of anomaly identification.\n",
    "- Average precision exemplifies performance under class imbalance (like PR AUC).\n",
    "- Balanced accuracy balances sensitivity and specificity.\n",
    "- Classification report and confusion matrix detail model outputs per class."
   ]
  },
  {
   "cell_type": "markdown",
   "id": "8eca3751",
   "metadata": {},
   "source": [
    "## 10.1 Metrics: ROC, AUC, Precision, Recall, Average Precision, F1-Score, Balanced Accuracy"
   ]
  },
  {
   "cell_type": "code",
   "execution_count": 61,
   "id": "a52f7740",
   "metadata": {},
   "outputs": [],
   "source": [
    "def evaluate(model, X_test, y_test):\n",
    "    y_pred = model.predict(X_test)\n",
    "    y_prob = model.predict_proba(X_test)[:,1]\n",
    "\n",
    "    metrics = {\n",
    "        \"roc_auc\": roc_auc_score(y_test, y_prob),\n",
    "        \"precision\": precision_score(y_test, y_pred),\n",
    "        \"recall\": recall_score(y_test, y_pred),\n",
    "        \"pr_auc\": average_precision_score(y_test, y_prob),\n",
    "        \"f1\": f1_score(y_test, y_pred, zero_division=0),\n",
    "        \"balanced_acc\": balanced_accuracy_score(y_test, y_pred),\n",
    "    }\n",
    "    print(metrics)\n",
    "    print(classification_report(y_test, y_pred))\n",
    "    print(\"Confusion matrix:\\n\", confusion_matrix(y_test, y_pred))\n",
    "    return metrics"
   ]
  },
  {
   "cell_type": "code",
   "execution_count": 62,
   "id": "85b7c964",
   "metadata": {},
   "outputs": [
    {
     "name": "stdout",
     "output_type": "stream",
     "text": [
      "=== Logistic Regression ===\n",
      "{'roc_auc': np.float64(0.5898548662492885), 'precision': np.float64(0.0), 'recall': np.float64(0.0), 'pr_auc': np.float64(0.008683938732535238), 'f1': np.float64(0.0), 'balanced_acc': np.float64(0.5)}\n",
      "              precision    recall  f1-score   support\n",
      "\n",
      "           0       0.99      1.00      1.00      1004\n",
      "           1       0.00      0.00      0.00         7\n",
      "\n",
      "    accuracy                           0.99      1011\n",
      "   macro avg       0.50      0.50      0.50      1011\n",
      "weighted avg       0.99      0.99      0.99      1011\n",
      "\n",
      "Confusion matrix:\n",
      " [[1004    0]\n",
      " [   7    0]]\n",
      "\n",
      "=== Random Forest ===\n"
     ]
    },
    {
     "name": "stderr",
     "output_type": "stream",
     "text": [
      "c:\\Users\\sanja\\AppData\\Local\\Programs\\Python\\Python312\\Lib\\site-packages\\sklearn\\metrics\\_classification.py:1531: UndefinedMetricWarning: Precision is ill-defined and being set to 0.0 due to no predicted samples. Use `zero_division` parameter to control this behavior.\n",
      "  _warn_prf(average, modifier, f\"{metric.capitalize()} is\", len(result))\n",
      "c:\\Users\\sanja\\AppData\\Local\\Programs\\Python\\Python312\\Lib\\site-packages\\sklearn\\metrics\\_classification.py:1531: UndefinedMetricWarning: Precision is ill-defined and being set to 0.0 in labels with no predicted samples. Use `zero_division` parameter to control this behavior.\n",
      "  _warn_prf(average, modifier, f\"{metric.capitalize()} is\", len(result))\n",
      "c:\\Users\\sanja\\AppData\\Local\\Programs\\Python\\Python312\\Lib\\site-packages\\sklearn\\metrics\\_classification.py:1531: UndefinedMetricWarning: Precision is ill-defined and being set to 0.0 in labels with no predicted samples. Use `zero_division` parameter to control this behavior.\n",
      "  _warn_prf(average, modifier, f\"{metric.capitalize()} is\", len(result))\n",
      "c:\\Users\\sanja\\AppData\\Local\\Programs\\Python\\Python312\\Lib\\site-packages\\sklearn\\metrics\\_classification.py:1531: UndefinedMetricWarning: Precision is ill-defined and being set to 0.0 in labels with no predicted samples. Use `zero_division` parameter to control this behavior.\n",
      "  _warn_prf(average, modifier, f\"{metric.capitalize()} is\", len(result))\n"
     ]
    },
    {
     "name": "stdout",
     "output_type": "stream",
     "text": [
      "{'roc_auc': np.float64(0.49302788844621515), 'precision': np.float64(0.0), 'recall': np.float64(0.0), 'pr_auc': np.float64(0.006923837784371909), 'f1': np.float64(0.0), 'balanced_acc': np.float64(0.499003984063745)}\n",
      "              precision    recall  f1-score   support\n",
      "\n",
      "           0       0.99      1.00      1.00      1004\n",
      "           1       0.00      0.00      0.00         7\n",
      "\n",
      "    accuracy                           0.99      1011\n",
      "   macro avg       0.50      0.50      0.50      1011\n",
      "weighted avg       0.99      0.99      0.99      1011\n",
      "\n",
      "Confusion matrix:\n",
      " [[1002    2]\n",
      " [   7    0]]\n",
      "                 model   roc_auc  precision  recall    pr_auc   f1  \\\n",
      "0  Logistic Regression  0.589855        0.0     0.0  0.008684  0.0   \n",
      "1        Random Forest  0.493028        0.0     0.0  0.006924  0.0   \n",
      "\n",
      "   balanced_acc  \n",
      "0      0.500000  \n",
      "1      0.499004  \n"
     ]
    }
   ],
   "source": [
    "print(\"=== Logistic Regression ===\")\n",
    "metrics_lr = evaluate(log_reg, X_test, y_test)\n",
    "\n",
    "print(\"\\n=== Random Forest ===\")\n",
    "metrics_rf = evaluate(rf, X_test, y_test)\n",
    "\n",
    "summary = pd.DataFrame([\n",
    "    {\"model\": \"Logistic Regression\", **metrics_lr},\n",
    "    {\"model\": \"Random Forest\", **metrics_rf}\n",
    "])\n",
    "print(summary)"
   ]
  },
  {
   "cell_type": "markdown",
   "id": "b98c1481",
   "metadata": {},
   "source": [
    "### Data Viz"
   ]
  },
  {
   "cell_type": "code",
   "execution_count": 63,
   "id": "df55747f",
   "metadata": {},
   "outputs": [
    {
     "data": {
      "image/png": "[encoded data removed]",
      "text/plain": [
       "<Figure size 800x600 with 1 Axes>"
      ]
     },
     "metadata": {},
     "output_type": "display_data"
    }
   ],
   "source": [
    "# ROC Curves for both models\n",
    "from sklearn.metrics import roc_curve\n",
    "\n",
    "plt.figure(figsize=(8,6))\n",
    "\n",
    "for name, model in [('Logistic Regression', log_reg), ('Random Forest', rf)]:\n",
    "    y_proba = model.predict_proba(X_test)[:,1]\n",
    "    fpr, tpr, _ = roc_curve(y_test, y_proba)\n",
    "    plt.plot(fpr, tpr, label=f'{name} (AUC={roc_auc_score(y_test, y_proba):.3f})')\n",
    "\n",
    "plt.plot([0,1], [0,1], linestyle='--', color='gray')\n",
    "plt.title('ROC Curve')\n",
    "plt.xlabel('False Positive Rate')\n",
    "plt.ylabel('True Positive Rate')\n",
    "plt.legend()\n",
    "plt.show()\n"
   ]
  }
 ],
 "metadata": {
  "kernelspec": {
   "display_name": "Python 3",
   "language": "python",
   "name": "python3"
  },
  "language_info": {
   "codemirror_mode": {
    "name": "ipython",
    "version": 3
   },
   "file_extension": ".py",
   "mimetype": "text/x-python",
   "name": "python",
   "nbconvert_exporter": "python",
   "pygments_lexer": "ipython3",
   "version": "3.12.2"
  }
 },
 "nbformat": 4,
 "nbformat_minor": 5
}
